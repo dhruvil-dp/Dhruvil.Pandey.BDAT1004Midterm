{
  "nbformat": 4,
  "nbformat_minor": 0,
  "metadata": {
    "colab": {
      "provenance": []
    },
    "kernelspec": {
      "name": "python3",
      "display_name": "Python 3"
    },
    "language_info": {
      "name": "python"
    }
  },
  "cells": [
    {
      "cell_type": "markdown",
      "source": [
        "#**Question: 21**"
      ],
      "metadata": {
        "id": "evjZe2B4Fzlz"
      }
    },
    {
      "cell_type": "code",
      "source": [
        "class Point:\n",
        "  def __init__(self, x=0, y=0):\n",
        "    self.x = x\n",
        "    self.y = y\n",
        "\n",
        "class Segment:\n",
        "  def __init__(self, p1, p2):\n",
        "    self.p1 = p1\n",
        "    self.p2 = p2\n",
        "\n",
        "  def Length(self):\n",
        "    return ((self.p2.x - self.p1.x)**2 + (self.p2.y - self.p1.y)**2)**0.5\n",
        "\n",
        "  def Slope(self):\n",
        "    return \"undefined\" if self.p2.x - self.p1.x == 0 else (self.p2.y - self.p1.y) / (self.p2.x - self.p1.x)"
      ],
      "metadata": {
        "id": "JjAvigk-FKzr"
      },
      "execution_count": 26,
      "outputs": []
    },
    {
      "cell_type": "code",
      "source": [
        "p1 = Point(4, 3)"
      ],
      "metadata": {
        "id": "mRP5s_QaIXWo"
      },
      "execution_count": 27,
      "outputs": []
    },
    {
      "cell_type": "code",
      "source": [
        "p2 = Point()"
      ],
      "metadata": {
        "id": "cHLzMG2-IaFM"
      },
      "execution_count": 28,
      "outputs": []
    },
    {
      "cell_type": "code",
      "source": [
        "segment = Segment(p1, p2)"
      ],
      "metadata": {
        "id": "QQTkpDT_IdMN"
      },
      "execution_count": 29,
      "outputs": []
    },
    {
      "cell_type": "code",
      "source": [
        "segment.Length()"
      ],
      "metadata": {
        "colab": {
          "base_uri": "https://localhost:8080/"
        },
        "id": "GdAnhx5mGp37",
        "outputId": "0920272a-1ef2-42fd-a1ae-7d8d761e2835"
      },
      "execution_count": 30,
      "outputs": [
        {
          "output_type": "execute_result",
          "data": {
            "text/plain": [
              "5.0"
            ]
          },
          "metadata": {},
          "execution_count": 30
        }
      ]
    },
    {
      "cell_type": "code",
      "source": [
        "segment.Slope()"
      ],
      "metadata": {
        "colab": {
          "base_uri": "https://localhost:8080/"
        },
        "id": "IQLt1b0iGrqb",
        "outputId": "11a2c794-0ce2-4565-91db-b8b65145a075"
      },
      "execution_count": 31,
      "outputs": [
        {
          "output_type": "execute_result",
          "data": {
            "text/plain": [
              "0.75"
            ]
          },
          "metadata": {},
          "execution_count": 31
        }
      ]
    },
    {
      "cell_type": "markdown",
      "source": [
        "#**Question 22**"
      ],
      "metadata": {
        "id": "_O5_w_mFIhoZ"
      }
    },
    {
      "cell_type": "code",
      "source": [
        "import sqlite3"
      ],
      "metadata": {
        "id": "bYCjHjcXJ6k-"
      },
      "execution_count": 48,
      "outputs": []
    },
    {
      "cell_type": "code",
      "source": [
        "conn = sqlite3.connect('weatherDB.db')"
      ],
      "metadata": {
        "id": "KUHOrkxnJ50W"
      },
      "execution_count": 68,
      "outputs": []
    },
    {
      "cell_type": "code",
      "source": [
        "cur = conn.cursor()"
      ],
      "metadata": {
        "id": "wHL8h1TuJ-wo"
      },
      "execution_count": 69,
      "outputs": []
    },
    {
      "cell_type": "code",
      "source": [
        "cur.execute('''\n",
        "    CREATE TABLE Weather (\n",
        "        id INT PRIMARY KEY,\n",
        "        recordDate DATE,\n",
        "        temperature INT\n",
        "    )\n",
        "''')"
      ],
      "metadata": {
        "colab": {
          "base_uri": "https://localhost:8080/"
        },
        "id": "hlx7C6VlKB7B",
        "outputId": "714d9c53-be42-4fe4-a12e-62d0b8172633"
      },
      "execution_count": 51,
      "outputs": [
        {
          "output_type": "execute_result",
          "data": {
            "text/plain": [
              "<sqlite3.Cursor at 0x7a3cf6fa49c0>"
            ]
          },
          "metadata": {},
          "execution_count": 51
        }
      ]
    },
    {
      "cell_type": "code",
      "source": [
        "cur.executemany('''\n",
        "    INSERT INTO Weather (id, recordDate, temperature)\n",
        "    VALUES (?, ?, ?)\n",
        "''', [\n",
        "    (1, '2015-01-01', 10),\n",
        "    (2, '2015-01-02', 25),\n",
        "    (3, '2015-01-03', 20),\n",
        "    (4, '2015-01-04', 30)\n",
        "])"
      ],
      "metadata": {
        "colab": {
          "base_uri": "https://localhost:8080/"
        },
        "id": "12PpksBLKFxb",
        "outputId": "f02ecdd5-ceb7-4e41-ce62-18f8132f5469"
      },
      "execution_count": 52,
      "outputs": [
        {
          "output_type": "execute_result",
          "data": {
            "text/plain": [
              "<sqlite3.Cursor at 0x7a3cf6fa49c0>"
            ]
          },
          "metadata": {},
          "execution_count": 52
        }
      ]
    },
    {
      "cell_type": "code",
      "source": [
        "conn.commit()"
      ],
      "metadata": {
        "id": "qcNLIZ19KJPg"
      },
      "execution_count": 53,
      "outputs": []
    },
    {
      "cell_type": "code",
      "source": [
        "cur.execute('''\n",
        "  SELECT wT1.id\n",
        "  FROM Weather wT1\n",
        "  JOIN Weather wT2\n",
        "  ON wT1.recordDate = DATE(wT2.recordDate, '+1 day')\n",
        "  WHERE wT1.temperature > wT2.temperature\n",
        "''')"
      ],
      "metadata": {
        "colab": {
          "base_uri": "https://localhost:8080/"
        },
        "id": "oZ6sjtGaKK_6",
        "outputId": "4dcd86da-95dd-4cfb-90e7-e66345723fbc"
      },
      "execution_count": 71,
      "outputs": [
        {
          "output_type": "execute_result",
          "data": {
            "text/plain": [
              "<sqlite3.Cursor at 0x7a3cf6fa4ec0>"
            ]
          },
          "metadata": {},
          "execution_count": 71
        }
      ]
    },
    {
      "cell_type": "code",
      "source": [
        "results = cur.fetchall()"
      ],
      "metadata": {
        "id": "Q0JQ2bg7KPuH"
      },
      "execution_count": 72,
      "outputs": []
    },
    {
      "cell_type": "code",
      "source": [
        "conn.close()"
      ],
      "metadata": {
        "id": "4QEs-wRbInvJ"
      },
      "execution_count": 73,
      "outputs": []
    },
    {
      "cell_type": "code",
      "source": [
        "for row in results:\n",
        "    print(row[0])"
      ],
      "metadata": {
        "colab": {
          "base_uri": "https://localhost:8080/"
        },
        "id": "AWbXjz7LM_-9",
        "outputId": "72d4015e-10b5-45eb-e7ad-40b14afce9c7"
      },
      "execution_count": 74,
      "outputs": [
        {
          "output_type": "stream",
          "name": "stdout",
          "text": [
            "2\n",
            "4\n"
          ]
        }
      ]
    },
    {
      "cell_type": "markdown",
      "source": [
        "#**Question 23**"
      ],
      "metadata": {
        "id": "3Mu-FgzVNnhL"
      }
    },
    {
      "cell_type": "code",
      "source": [
        "def tough(indentation, pattern):\n",
        "  if pattern == 0:\n",
        "    return None\n",
        "  else:\n",
        "    tough(indentation, pattern // 2)\n",
        "    print(' ' * indentation + '*' * pattern)\n",
        "    tough(indentation + pattern // 2, pattern // 2)"
      ],
      "metadata": {
        "id": "EyuPHtvdSZ5x"
      },
      "execution_count": 91,
      "outputs": []
    },
    {
      "cell_type": "code",
      "source": [
        "tough(0, 0)"
      ],
      "metadata": {
        "id": "1ksxS6UkSa1M"
      },
      "execution_count": 92,
      "outputs": []
    },
    {
      "cell_type": "code",
      "source": [
        "tough(0, 1)"
      ],
      "metadata": {
        "colab": {
          "base_uri": "https://localhost:8080/"
        },
        "id": "GqysYlezSbAU",
        "outputId": "329f3fca-3f44-418c-aea8-77c6f98f058d"
      },
      "execution_count": 93,
      "outputs": [
        {
          "output_type": "stream",
          "name": "stdout",
          "text": [
            "*\n"
          ]
        }
      ]
    },
    {
      "cell_type": "code",
      "source": [
        "tough(0, 2)"
      ],
      "metadata": {
        "colab": {
          "base_uri": "https://localhost:8080/"
        },
        "id": "mLZOwqkhSbHF",
        "outputId": "1edc7b88-5a76-4599-8ce0-abde04018f00"
      },
      "execution_count": 94,
      "outputs": [
        {
          "output_type": "stream",
          "name": "stdout",
          "text": [
            "*\n",
            "**\n",
            " *\n"
          ]
        }
      ]
    },
    {
      "cell_type": "code",
      "source": [
        "tough(0, 4)"
      ],
      "metadata": {
        "colab": {
          "base_uri": "https://localhost:8080/"
        },
        "id": "YVm8v4QGSgL3",
        "outputId": "b10c9b1e-1536-406c-c45d-a75e0a3ed593"
      },
      "execution_count": 95,
      "outputs": [
        {
          "output_type": "stream",
          "name": "stdout",
          "text": [
            "*\n",
            "**\n",
            " *\n",
            "****\n",
            "  *\n",
            "  **\n",
            "   *\n"
          ]
        }
      ]
    }
  ]
}